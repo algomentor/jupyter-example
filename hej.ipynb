{
 "cells": [
  {
   "cell_type": "markdown",
   "metadata": {},
   "source": [
    "# Hej\n",
    "\n",
    "This is some text written in Markdown.\n",
    "Markdown can be **bold**, *italic*, or `monospace`.\n",
    "It can also be a [link](https://www.sanrio.com/collections/hello-kitty) to a website.\n",
    "Or if you like, refer to an image like this:\n",
    "\n",
    "![](./hej.avif)\n",
    "\n",
    "You can also insert LaTTeX like this $f(x) = x^2$."
   ]
  },
  {
   "cell_type": "code",
   "execution_count": null,
   "metadata": {},
   "outputs": [],
   "source": [
    "# This field says Hej\n",
    "\n",
    "for i in range(10):\n",
    "    print(f\"Hej {i}\")"
   ]
  },
  {
   "cell_type": "code",
   "execution_count": null,
   "metadata": {},
   "outputs": [],
   "source": [
    "# This field adds two numbers and displays the result\n",
    "a = 2\n",
    "b = 1\n",
    "c = a + b\n",
    "\n",
    "c # this will cause the value of c to be displayed"
   ]
  },
  {
   "cell_type": "markdown",
   "metadata": {},
   "source": [
    "We can also display graphs using numpy, pandas, and matplotlib. For example here are some lovely curves."
   ]
  },
  {
   "cell_type": "code",
   "execution_count": null,
   "metadata": {},
   "outputs": [],
   "source": [
    "import numpy as np\n",
    "import pandas as pd\n",
    "import matplotlib.pyplot as plt\n",
    "\n",
    "# Generate data\n",
    "x = np.linspace(0, 10, 1000)\n",
    "sine_wave = np.sin(x)\n",
    "cosine_wave = np.cos(x)\n",
    "\n",
    "# Create a DataFrame -- PANDAS !!!\n",
    "df = pd.DataFrame({\n",
    "    'x': x,\n",
    "    'sine': sine_wave,\n",
    "    'cosine': cosine_wave\n",
    "})\n",
    "\n",
    "# Plotting\n",
    "plt.figure(figsize=(10, 6))\n",
    "plt.plot(df['x'], df['sine'], label='Sine Wave', color='b', linewidth=2)\n",
    "plt.plot(df['x'], df['cosine'], label='Cosine Wave', color='r', linestyle='--', linewidth=2)\n",
    "\n",
    "# Adding titles and labels\n",
    "plt.title('Sine and Cosine Waves', fontsize=16)\n",
    "plt.xlabel('X-axis (radians)', fontsize=14)\n",
    "plt.ylabel('Y-axis', fontsize=14)\n",
    "\n",
    "# Adding grid and legend\n",
    "plt.grid(True, which='both', linestyle='--', linewidth=0.5)\n",
    "plt.axhline(y=0, color='k', linewidth=0.5)\n",
    "plt.axvline(x=0, color='k', linewidth=0.5)\n",
    "plt.legend(loc='upper right', fontsize=12)\n",
    "\n",
    "# Show plot\n",
    "plt.show()"
   ]
  },
  {
   "cell_type": "markdown",
   "metadata": {},
   "source": [
    "Here is another one that does some data science shit"
   ]
  },
  {
   "cell_type": "code",
   "execution_count": null,
   "metadata": {},
   "outputs": [],
   "source": [
    "# Import necessary libraries\n",
    "import numpy as np\n",
    "import pandas as pd\n",
    "import matplotlib.pyplot as plt\n",
    "\n",
    "# Generate data: a normally distributed dataset\n",
    "data = np.random.normal(loc=0, scale=1, size=1000)\n",
    "\n",
    "# Create a DataFrame\n",
    "df = pd.DataFrame(data, columns=['value'])\n",
    "\n",
    "# Calculate mean and standard deviation\n",
    "mean_value = df['value'].mean()\n",
    "std_value = df['value'].std()\n",
    "\n",
    "# Plotting\n",
    "plt.figure(figsize=(10, 6))\n",
    "\n",
    "# Histogram\n",
    "plt.hist(df['value'], bins=30, color='c', edgecolor='black', alpha=0.7)\n",
    "\n",
    "# Adding mean and standard deviation lines\n",
    "plt.axvline(mean_value, color='r', linestyle='--', linewidth=2, label=f'Mean: {mean_value:.2f}')\n",
    "plt.axvline(mean_value + std_value, color='g', linestyle='--', linewidth=2, label=f'Std Dev: {std_value:.2f}')\n",
    "plt.axvline(mean_value - std_value, color='g', linestyle='--', linewidth=2)\n",
    "\n",
    "# Adding titles and labels\n",
    "plt.title('Histogram of Normally Distributed Data', fontsize=16)\n",
    "plt.xlabel('Value', fontsize=14)\n",
    "plt.ylabel('Frequency', fontsize=14)\n",
    "\n",
    "# Adding legend\n",
    "plt.legend(loc='upper right', fontsize=12)\n",
    "\n",
    "# Show plot\n",
    "plt.show()"
   ]
  },
  {
   "cell_type": "markdown",
   "metadata": {},
   "source": [
    "# Conclusion\n",
    "\n",
    "Jupyter operates in a non-rucula way."
   ]
  }
 ],
 "metadata": {
  "kernelspec": {
   "display_name": "base",
   "language": "python",
   "name": "python3"
  },
  "language_info": {
   "codemirror_mode": {
    "name": "ipython",
    "version": 3
   },
   "file_extension": ".py",
   "mimetype": "text/x-python",
   "name": "python",
   "nbconvert_exporter": "python",
   "pygments_lexer": "ipython3",
   "version": "3.11.7"
  }
 },
 "nbformat": 4,
 "nbformat_minor": 2
}
